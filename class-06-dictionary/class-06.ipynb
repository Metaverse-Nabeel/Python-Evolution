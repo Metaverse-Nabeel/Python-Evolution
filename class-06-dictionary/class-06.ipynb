{
 "cells": [
  {
   "cell_type": "markdown",
   "metadata": {},
   "source": [
    "### Chapter - 6\n",
    "## Dictionary"
   ]
  },
  {
   "cell_type": "markdown",
   "metadata": {},
   "source": [
    "#### 6-1. Person: Use a dictionary to store information about a person you know. Store their first name, last name, age, and the city in which they live. You should have keys such as first_name, last_name, age, and city. Print each piece  of information stored in your dictionary."
   ]
  },
  {
   "cell_type": "code",
   "execution_count": 3,
   "metadata": {},
   "outputs": [
    {
     "name": "stdout",
     "output_type": "stream",
     "text": [
      "{'first_name': 'Nabeel', 'last_name': 'Ahmed', 'age': '29', 'city': 'Islamabad'}\n"
     ]
    }
   ],
   "source": [
    "from typing import Dict\n",
    "\n",
    "person : Dict[str, str] = {'first_name': 'Nabeel', 'last_name': 'Ahmed', 'age': '29', 'city': 'Islamabad'}\n",
    "\n",
    "print(person)"
   ]
  },
  {
   "cell_type": "markdown",
   "metadata": {},
   "source": [
    "#### 6-2. Favorite Numbers: Use a dictionary to store people’s favorite numbers. Think of five names, and use them as keys in your dictionary. Think of a favorite number for each person, and store each as a value in your dictionary. Print each person’s name and their favorite number. For even more fun, poll a few friends and get some actual data for your program."
   ]
  },
  {
   "cell_type": "code",
   "execution_count": 1,
   "metadata": {},
   "outputs": [
    {
     "name": "stdout",
     "output_type": "stream",
     "text": [
      "{'Nabeel': 9, 'Ahmed': 5, 'Rizwan': 7, 'Waqas': 4, 'Usman': 2}\n"
     ]
    }
   ],
   "source": [
    "from typing import Dict\n",
    "\n",
    "favorite_numbers : Dict[str, int] = {'Nabeel': 9, 'Ahmed': 5, 'Rizwan': 7, 'Waqas': 4, 'Usman': 2}\n",
    "\n",
    "print(favorite_numbers)\n"
   ]
  }
 ],
 "metadata": {
  "kernelspec": {
   "display_name": "Python 3",
   "language": "python",
   "name": "python3"
  },
  "language_info": {
   "codemirror_mode": {
    "name": "ipython",
    "version": 3
   },
   "file_extension": ".py",
   "mimetype": "text/x-python",
   "name": "python",
   "nbconvert_exporter": "python",
   "pygments_lexer": "ipython3",
   "version": "3.12.0"
  }
 },
 "nbformat": 4,
 "nbformat_minor": 2
}
