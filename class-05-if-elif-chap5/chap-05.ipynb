{
 "cells": [
  {
   "cell_type": "markdown",
   "metadata": {},
   "source": [
    "# Chapter 5\n",
    "## if else & if elif else"
   ]
  },
  {
   "cell_type": "markdown",
   "metadata": {},
   "source": [
    "#### 5-3. Alien Colors #1: Imagine an alien was just shot down in a game. Create a variable called alien_color and assign it a value of 'green', 'yellow', or 'red'.\n",
    "- Write an if statement to test whether the alien’s color is green. If it is, print a message that the player just earned 5 points.\n",
    "- Write one version of this program that passes the if test and another that fails. (The version that fails will have no output.)"
   ]
  },
  {
   "cell_type": "code",
   "execution_count": 1,
   "metadata": {},
   "outputs": [
    {
     "name": "stdout",
     "output_type": "stream",
     "text": [
      "No message\n",
      "The player earned 5 points\n"
     ]
    }
   ],
   "source": [
    "alien_color :str = 'green'\n",
    "\n",
    "if alien_color == 'red':\n",
    "    print(\"The player earned 5 points\")\n",
    "else:\n",
    "    print(\"No message\")\n",
    "    \n",
    "if alien_color == 'green':\n",
    "    print(\"The player earned 5 points\")\n",
    "else:\n",
    "    print(\"No message\")"
   ]
  },
  {
   "cell_type": "markdown",
   "metadata": {},
   "source": [
    "#### 5-4. Alien Colors #2: Choose a color for an alien as you did in Exercise 5-3, and write an if-else chain.\n",
    "- If the alien’s color is green, print a statement that the player just earned 5 points for shooting the alien.\n",
    "- If the alien’s color isn’t green, print a statement that the player just earned 10 points.\n",
    "- Write one version of this program that runs the if block and another that runs the else block."
   ]
  },
  {
   "cell_type": "code",
   "execution_count": 2,
   "metadata": {},
   "outputs": [
    {
     "name": "stdout",
     "output_type": "stream",
     "text": [
      "Player earned 5 points\n",
      "Player earned 10 points\n"
     ]
    }
   ],
   "source": [
    "alien_color :str = 'green'\n",
    "\n",
    "if alien_color == 'green':\n",
    "    print(\"Player earned 5 points\")\n",
    "else:\n",
    "    print(\"Player earned 10 points\")\n",
    "\n",
    "alien_color :str = 'red'\n",
    "\n",
    "if alien_color == 'green':\n",
    "    print(\"Player earned 5 points\")\n",
    "else:\n",
    "    print(\"Player earned 10 points\")"
   ]
  },
  {
   "cell_type": "markdown",
   "metadata": {},
   "source": [
    "#### 5-5. Alien Colors #3: Turn your if-else chain from Exercise 5-4 into an if-elif-else chain.\n",
    "- If the alien is green, print a message that the player earned 5 points.\n",
    "- If the alien is yellow, print a message that the player earned 10 points.\n",
    "- If the alien is red, print a message that the player earned 15 points.\n",
    "- Write three versions of this program, making sure each message is printed for the appropriate color alien."
   ]
  },
  {
   "cell_type": "code",
   "execution_count": 5,
   "metadata": {},
   "outputs": [
    {
     "name": "stdout",
     "output_type": "stream",
     "text": [
      "When the Alien Color is Red\n",
      "Player earned 15 points\n",
      "\n",
      "When the Alien Color is Green\n",
      "Player earned 5 points\n",
      "\n",
      "When the Alien Color is Yellow\n",
      "Player earned 10 points\n"
     ]
    }
   ],
   "source": [
    "print(\"When the Alien Color is Red\")\n",
    "alien_color :str = 'red'\n",
    "\n",
    "if alien_color == 'green':\n",
    "    print(\"Player earned 5 points\") \n",
    "elif alien_color == 'yellow':\n",
    "    print(\"Player earned 10 points\")\n",
    "else :\n",
    "    print(\"Player earned 15 points\")\n",
    "\n",
    "print(\"\\nWhen the Alien Color is Green\")\n",
    "\n",
    "alien_color :str = 'green'\n",
    "\n",
    "if alien_color == 'green':\n",
    "    print(\"Player earned 5 points\") \n",
    "elif alien_color == 'yellow':\n",
    "    print(\"Player earned 10 points\")\n",
    "else :\n",
    "    print(\"Player earned 15 points\")\n",
    "     \n",
    "print(\"\\nWhen the Alien Color is Yellow\")\n",
    "\n",
    "alien_color :str = 'yellow'\n",
    "\n",
    "if alien_color == 'green':\n",
    "    print(\"Player earned 5 points\") \n",
    "elif alien_color == 'yellow':\n",
    "    print(\"Player earned 10 points\")\n",
    "else :\n",
    "    print(\"Player earned 15 points\")\n",
    "     "
   ]
  },
  {
   "cell_type": "markdown",
   "metadata": {},
   "source": [
    "#### 5-6. Stages of Life: Write an if-elif-else chain that determines a person’s stage of life. Set a value for the variable age, and then:\n",
    "- If the person is less than 2 years old, print a message that the person is  a baby.\n",
    "- If the person is at least 2 years old but less than 4, print a message that the person is a toddler.\n",
    "- If the person is at least 4 years old but less than 13, print a message that the person is a kid.\n",
    "- If the person is at least 13 years old but less than 20, print a message that the person is a teenager.\n",
    "- If the person is at least 20 years old but less than 65, print a message that the person is an adult.\n",
    "- If the person is age 65 or older, print a message that the person is an elder."
   ]
  },
  {
   "cell_type": "code",
   "execution_count": 12,
   "metadata": {},
   "outputs": [
    {
     "name": "stdout",
     "output_type": "stream",
     "text": [
      "Person is Baby\n"
     ]
    }
   ],
   "source": [
    "age :int = 1\n",
    "\n",
    "if age < 2:\n",
    "    print(\"Person is Baby\")\n",
    "elif age >= 2 and age < 4 :\n",
    "    print(\"Person is Toddler\")\n",
    "elif age >= 4 and age < 13 :\n",
    "    print(\"Person is Kid\")\n",
    "elif age >= 13 and age < 20 :\n",
    "    print(\"Person is Teenager\")\n",
    "elif age >= 20 and age < 65 :\n",
    "    print(\"Person is Adult\")\n",
    "elif age >= 65 :\n",
    "    print(\"Person is Elder\")\n",
    "\n",
    "    "
   ]
  },
  {
   "cell_type": "markdown",
   "metadata": {},
   "source": [
    "#### 5-7. Favorite Fruit: Make a list of your favorite fruits, and then write a series of independent if statements that check for certain fruits in your list.\n",
    "- Make a list of your three favorite fruits and call it favorite_fruits.\n",
    "- Write five if statements. Each should check whether a certain kind of fruit is in your list. If the fruit is in your list, the if block should print a statement, such as You really like bananas!"
   ]
  },
  {
   "cell_type": "code",
   "execution_count": 14,
   "metadata": {},
   "outputs": [
    {
     "name": "stdout",
     "output_type": "stream",
     "text": [
      "You really love Apple\n"
     ]
    }
   ],
   "source": [
    "favorite_fruits : list[str] = ['banana', 'apple', 'pineapple', 'grapes', 'apricot']\n",
    "fruit : str = 'apple'\n",
    "\n",
    "if fruit in favorite_fruits :\n",
    "    print(f'You really love {fruit.capitalize()}')\n"
   ]
  },
  {
   "cell_type": "markdown",
   "metadata": {},
   "source": [
    "#### 5-8. Hello Admin: Make a list of five or more usernames, including the name 'admin'. Imagine you are writing code that will print a greeting to each user after they log in to a website. Loop through the list, and print a greeting to each user.\n",
    "- If the username is 'admin', print a special greeting, such as Hello admin, would you like to see a status report?\n",
    "- Otherwise, print a generic greeting, such as Hello Jaden, thank you for logging in again."
   ]
  },
  {
   "cell_type": "code",
   "execution_count": 1,
   "metadata": {},
   "outputs": [
    {
     "name": "stdout",
     "output_type": "stream",
     "text": [
      "Hello Admin, would you like to see a status report?\n",
      "Hello Nabeel, Thank you for logging in again\n",
      "Hello Ahmed, Thank you for logging in again\n",
      "Hello Rizwan, Thank you for logging in again\n",
      "Hello Waqas, Thank you for logging in again\n"
     ]
    }
   ],
   "source": [
    "username : list[str] = ['admin', 'nabeel', 'ahmed', 'rizwan', 'waqas']\n",
    "\n",
    "for user in username:\n",
    "    if user == 'admin':\n",
    "        print('Hello Admin, would you like to see a status report?')\n",
    "    else :\n",
    "        print(f'Hello {user.capitalize()}, Thank you for logging in again')"
   ]
  },
  {
   "cell_type": "markdown",
   "metadata": {},
   "source": [
    "#### 5-9. No Users: Add an if test to hello_admin.py to make sure the list of users is not empty.\n",
    "- If the list is empty, print the message We need to find some users!\n",
    "- Remove all of the usernames from your list, and make sure the correct mes-sage is printed."
   ]
  },
  {
   "cell_type": "code",
   "execution_count": 7,
   "metadata": {},
   "outputs": [
    {
     "name": "stdout",
     "output_type": "stream",
     "text": [
      "We need to find some users!\n"
     ]
    }
   ],
   "source": [
    "# username : list[str] = ['admin', 'nabeel', 'ahmed', 'rizwan', 'waqas']\n",
    "username : list[str] = []\n",
    "\n",
    "if username:\n",
    "    for user in username:\n",
    "        if user == 'admin':\n",
    "            print('Hello Admin, would you like to see a status report?')\n",
    "        else :\n",
    "            print(f'Hello {user.capitalize()}, Thank you for logging in again')\n",
    "else:\n",
    "    print(\"We need to find some users!\")"
   ]
  },
  {
   "cell_type": "markdown",
   "metadata": {},
   "source": [
    "#### 5-10. Checking Usernames: Do the following to create a program that simulates how websites ensure that everyone has a unique username.\n",
    "- Make a list of five or more usernames called current_users.\n",
    "- Make another list of five usernames called new_users. Make sure one or two of the new usernames are also in the current_users list.\n",
    "- Loop through the new_users list to see if each new username has already been used. If it has, print a message that the person will need to enter a new username. If a username has not been used, print a message saying that the username is available.\n",
    "- Make sure your comparison is case insensitive. If 'John' has been used, 'JOHN' should not be accepted. (To do this, you’ll need to make a copy of current_users containing the lowercase versions of all existing users.)"
   ]
  },
  {
   "cell_type": "code",
   "execution_count": 4,
   "metadata": {},
   "outputs": [
    {
     "name": "stdout",
     "output_type": "stream",
     "text": [
      "The username is available!\n",
      "The username Ahmed already exists\n",
      "The username is available!\n",
      "The username is available!\n",
      "The username Noman already exists\n"
     ]
    }
   ],
   "source": [
    "current_users : list[str] = ['nabeel', 'ahmed', 'rizwan', 'waqas', 'noman']\n",
    "new_users : list[str] = ['atif', 'ahmed', 'usman', 'shahzad', 'noman']\n",
    "\n",
    "for user in current_users:\n",
    "    if user in new_users:\n",
    "        print(f'The username {user.capitalize()} already exists')\n",
    "    else:\n",
    "        print(f'The username is available!')"
   ]
  },
  {
   "cell_type": "markdown",
   "metadata": {},
   "source": [
    "#### 5-11. Ordinal Numbers: Ordinal numbers indicate their position in a list, such as 1st or 2nd. Most ordinal numbers end in th, except 1, 2, and 3.\n",
    "- Store the numbers 1 through 9 in a list.\n",
    "- Loop through the list.\n",
    "- Use an if-elif-else chain inside the loop to print the proper ordinal ending for each number. Your output should read \"1st 2nd 3rd 4th 5th 6th 7th 8th 9th\", and each result should be on a separate line.\n"
   ]
  },
  {
   "cell_type": "code",
   "execution_count": 6,
   "metadata": {},
   "outputs": [
    {
     "name": "stdout",
     "output_type": "stream",
     "text": [
      "1st\n",
      "2nd\n",
      "3rd\n",
      "4th\n",
      "5th\n",
      "6th\n",
      "7th\n",
      "8th\n",
      "9th\n"
     ]
    }
   ],
   "source": [
    "# ordinal_numbers : list[str] = ['1','2', '3', '4', '5', '6', '7', '8', '9']\n",
    "ordinal_numbers : list[int] = [1,2,3,4,5,6,7,8,9]\n",
    "\n",
    "for number in ordinal_numbers:\n",
    "    if number == 1:\n",
    "        print(f'{number}st')\n",
    "    elif number == 2:\n",
    "        print(f'{number}nd')\n",
    "    elif number == 3:\n",
    "        print(f'{number}rd')\n",
    "    else :\n",
    "        print(f'{number}th')"
   ]
  }
 ],
 "metadata": {
  "kernelspec": {
   "display_name": "Python 3",
   "language": "python",
   "name": "python3"
  },
  "language_info": {
   "codemirror_mode": {
    "name": "ipython",
    "version": 3
   },
   "file_extension": ".py",
   "mimetype": "text/x-python",
   "name": "python",
   "nbconvert_exporter": "python",
   "pygments_lexer": "ipython3",
   "version": "3.12.0"
  }
 },
 "nbformat": 4,
 "nbformat_minor": 2
}
