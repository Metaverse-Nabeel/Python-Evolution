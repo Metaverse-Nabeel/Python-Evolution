{
 "cells": [
  {
   "cell_type": "markdown",
   "metadata": {},
   "source": [
    "# Chapter - 3 List Concepts\n",
    "## Exercise Questions"
   ]
  },
  {
   "cell_type": "markdown",
   "metadata": {},
   "source": [
    "3-1. Names: Store the names of a few of your friends in a list called names. Print each person’s name by accessing each element in the list, one at a time."
   ]
  },
  {
   "cell_type": "code",
   "execution_count": 2,
   "metadata": {},
   "outputs": [
    {
     "name": "stdout",
     "output_type": "stream",
     "text": [
      "Nabeel\n",
      "Rizwan\n",
      "Waqas\n",
      "Usman\n",
      "Noman\n"
     ]
    }
   ],
   "source": [
    "names : list = ['nabeel', 'rizwan', 'waqas', 'usman', 'noman']\n",
    "print(names[0].title())\n",
    "print(names[1].title())\n",
    "print(names[2].title())\n",
    "print(names[3].title())\n",
    "print(names[4].title())"
   ]
  },
  {
   "cell_type": "markdown",
   "metadata": {},
   "source": [
    "3-2. Greetings: Start with the list you used in Exercise 3-1, but instead of just printing each person’s name, print a message to them. The text of each mes-sage should be the same, but each message should be personalized with the person’s name."
   ]
  },
  {
   "cell_type": "code",
   "execution_count": 3,
   "metadata": {},
   "outputs": [
    {
     "name": "stdout",
     "output_type": "stream",
     "text": [
      "Greetings! How are you Nabeel?\n",
      "Greetings! How are you Rizwan?\n",
      "Greetings! How are you Waqas?\n",
      "Greetings! How are you Usman?\n",
      "Greetings! How are you Noman?\n"
     ]
    }
   ],
   "source": [
    "names : list = ['nabeel', 'rizwan', 'waqas', 'usman', 'noman']\n",
    "print(f'Greetings! How are you {names[0].title()}?')\n",
    "print(f'Greetings! How are you {names[1].title()}?')\n",
    "print(f'Greetings! How are you {names[2].title()}?')\n",
    "print(f'Greetings! How are you {names[3].title()}?')\n",
    "print(f'Greetings! How are you {names[4].title()}?')"
   ]
  },
  {
   "cell_type": "markdown",
   "metadata": {},
   "source": [
    "3-3. Your Own List: Think of your favorite mode of transportation, such as a motorcycle or a car, and make a list that stores several examples. Use your list to print a series of statements about these items, such as “I would like to own a Honda motorcycle.”"
   ]
  },
  {
   "cell_type": "code",
   "execution_count": 5,
   "metadata": {},
   "outputs": [
    {
     "name": "stdout",
     "output_type": "stream",
     "text": [
      "I love Suzuki's Car\n",
      "I love Honda's Car\n",
      "I love Volvo's Car\n",
      "I love Ford's Car\n",
      "I love Bmw's Car\n"
     ]
    }
   ],
   "source": [
    "company : list = ['suzuki', 'honda', 'volvo', 'ford', 'BMW']\n",
    "print(f\"I love {company[0].title()}'s Car\")\n",
    "print(f\"I love {company[1].title()}'s Car\")\n",
    "print(f\"I love {company[2].title()}'s Car\")\n",
    "print(f\"I love {company[3].title()}'s Car\")\n",
    "print(f\"I love {company[4].title()}'s Car\")"
   ]
  }
 ],
 "metadata": {
  "kernelspec": {
   "display_name": "Python 3",
   "language": "python",
   "name": "python3"
  },
  "language_info": {
   "codemirror_mode": {
    "name": "ipython",
    "version": 3
   },
   "file_extension": ".py",
   "mimetype": "text/x-python",
   "name": "python",
   "nbconvert_exporter": "python",
   "pygments_lexer": "ipython3",
   "version": "3.12.0"
  }
 },
 "nbformat": 4,
 "nbformat_minor": 2
}
