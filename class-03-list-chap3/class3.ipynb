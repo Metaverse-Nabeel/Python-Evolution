{
 "cells": [
  {
   "cell_type": "markdown",
   "metadata": {},
   "source": [
    "# Chapter - 3 List Concepts\n",
    "## Exercise Questions"
   ]
  },
  {
   "cell_type": "markdown",
   "metadata": {},
   "source": [
    "3-1. Names: Store the names of a few of your friends in a list called names. Print each person’s name by accessing each element in the list, one at a time."
   ]
  },
  {
   "cell_type": "code",
   "execution_count": 2,
   "metadata": {},
   "outputs": [
    {
     "name": "stdout",
     "output_type": "stream",
     "text": [
      "Nabeel\n",
      "Rizwan\n",
      "Waqas\n",
      "Usman\n",
      "Noman\n"
     ]
    }
   ],
   "source": [
    "names : list = ['nabeel', 'rizwan', 'waqas', 'usman', 'noman']\n",
    "print(names[0].title())\n",
    "print(names[1].title())\n",
    "print(names[2].title())\n",
    "print(names[3].title())\n",
    "print(names[4].title())"
   ]
  },
  {
   "cell_type": "markdown",
   "metadata": {},
   "source": [
    "3-2. Greetings: Start with the list you used in Exercise 3-1, but instead of just printing each person’s name, print a message to them. The text of each mes-sage should be the same, but each message should be personalized with the person’s name."
   ]
  },
  {
   "cell_type": "code",
   "execution_count": 3,
   "metadata": {},
   "outputs": [
    {
     "name": "stdout",
     "output_type": "stream",
     "text": [
      "Greetings! How are you Nabeel?\n",
      "Greetings! How are you Rizwan?\n",
      "Greetings! How are you Waqas?\n",
      "Greetings! How are you Usman?\n",
      "Greetings! How are you Noman?\n"
     ]
    }
   ],
   "source": [
    "names : list = ['nabeel', 'rizwan', 'waqas', 'usman', 'noman']\n",
    "print(f'Greetings! How are you {names[0].title()}?')\n",
    "print(f'Greetings! How are you {names[1].title()}?')\n",
    "print(f'Greetings! How are you {names[2].title()}?')\n",
    "print(f'Greetings! How are you {names[3].title()}?')\n",
    "print(f'Greetings! How are you {names[4].title()}?')"
   ]
  },
  {
   "cell_type": "markdown",
   "metadata": {},
   "source": [
    "3-3. Your Own List: Think of your favorite mode of transportation, such as a motorcycle or a car, and make a list that stores several examples. Use your list to print a series of statements about these items, such as “I would like to own a Honda motorcycle.”"
   ]
  },
  {
   "cell_type": "code",
   "execution_count": 5,
   "metadata": {},
   "outputs": [
    {
     "name": "stdout",
     "output_type": "stream",
     "text": [
      "I love Suzuki's Car\n",
      "I love Honda's Car\n",
      "I love Volvo's Car\n",
      "I love Ford's Car\n",
      "I love Bmw's Car\n"
     ]
    }
   ],
   "source": [
    "company : list = ['suzuki', 'honda', 'volvo', 'ford', 'BMW']\n",
    "print(f\"I love {company[0].title()}'s Car\")\n",
    "print(f\"I love {company[1].title()}'s Car\")\n",
    "print(f\"I love {company[2].title()}'s Car\")\n",
    "print(f\"I love {company[3].title()}'s Car\")\n",
    "print(f\"I love {company[4].title()}'s Car\")"
   ]
  },
  {
   "cell_type": "markdown",
   "metadata": {},
   "source": [
    "# Operators"
   ]
  },
  {
   "cell_type": "code",
   "execution_count": 6,
   "metadata": {},
   "outputs": [
    {
     "data": {
      "text/plain": [
       "True"
      ]
     },
     "execution_count": 6,
     "metadata": {},
     "output_type": "execute_result"
    }
   ],
   "source": [
    "companies : list[str] = ['suzuki', 'honda', 'volvo', 'ford', 'BMW']\n",
    "getCompany : str = input(\"Enter your car company?\")\n",
    "getCompany not in companies"
   ]
  },
  {
   "cell_type": "markdown",
   "metadata": {},
   "source": [
    "# PEMDAS \n",
    "(Parenthesis, Exponent, Multiplication, Division, Addition and Subtraction)"
   ]
  },
  {
   "cell_type": "markdown",
   "metadata": {},
   "source": [
    "3-4. Guest List: If you could invite anyone, living or deceased, to dinner, who would you invite? Make a list that includes at least three people you’d like to invite to dinner. Then use your list to print a message to each person, inviting them to dinner."
   ]
  },
  {
   "cell_type": "code",
   "execution_count": 1,
   "metadata": {},
   "outputs": [
    {
     "name": "stdout",
     "output_type": "stream",
     "text": [
      "Waqas, you are cordially invited for dinner\n",
      "Usama, you are cordially invited for dinner\n",
      "Abdullah, you are cordially invited for dinner\n"
     ]
    }
   ],
   "source": [
    "guests : list[str] = ['Waqas', 'Usama', 'Abdullah']\n",
    "print(f'{guests[0].title()}, you are cordially invited for dinner')\n",
    "print(f'{guests[1].title()}, you are cordially invited for dinner')\n",
    "print(f'{guests[2].title()}, you are cordially invited for dinner')"
   ]
  },
  {
   "cell_type": "code",
   "execution_count": 11,
   "metadata": {},
   "outputs": [
    {
     "name": "stdout",
     "output_type": "stream",
     "text": [
      "Raju, you are cordially invited for dinner\n",
      "Nomi, you are cordially invited for dinner\n"
     ]
    }
   ],
   "source": [
    "guests : list[str] = ['Waqas', 'Usama', 'Abdullah']\n",
    "guests.insert(0, 'raju')\n",
    "print(f'{guests[0].title()}, you are cordially invited for dinner')\n",
    "guests.append(\"nomi\")\n",
    "print(f'{guests[(guests.__len__() - 1 )].title()}, you are cordially invited for dinner')"
   ]
  },
  {
   "cell_type": "markdown",
   "metadata": {},
   "source": [
    "3-7. Shrinking Guest List: You just found out that your new dinner table won’t arrive in time for the dinner, and now you have space for only two guests.• Start with your program from Exercise 3-6. Add a new line that prints a message saying that you can invite only two people for dinner.• Use pop() to remove guests from your list one at a time until only two names remain in your list. Each time you pop a name from your list, print a message to that person letting them know you’re sorry you can’t invite them to dinner.• Print a message to each of the two people still on your list, letting them know they’re still invited.• Use del to remove the last two names from your list, so you have an empty list. Print your list to make sure you actually have an empty list at the end of your program."
   ]
  },
  {
   "cell_type": "code",
   "execution_count": 7,
   "metadata": {},
   "outputs": [
    {
     "name": "stdout",
     "output_type": "stream",
     "text": [
      "['Waqas', 'Usama']\n",
      "Waqas, you are cordially invited for dinner\n",
      "Usama, you are cordially invited for dinner\n",
      "There are not guests in the list!\n"
     ]
    }
   ],
   "source": [
    "guests : list[str] = ['Waqas', 'Usama', 'Abdullah']\n",
    "guests.pop()\n",
    "print(guests)\n",
    "print(f'{guests[0].title()}, you are cordially invited for dinner')\n",
    "print(f'{guests[1].title()}, you are cordially invited for dinner')\n",
    "del guests[1]\n",
    "del guests[0]\n",
    "if(guests.__len__() == 0) :\n",
    "    print(\"There are not guests in the list!\")\n"
   ]
  },
  {
   "cell_type": "code",
   "execution_count": 5,
   "metadata": {},
   "outputs": [
    {
     "name": "stdout",
     "output_type": "stream",
     "text": [
      "Ascending sorting: ['Abdullah', 'Nauman', 'Rizwan', 'Tariq', 'Usama', 'Waqas', 'Zahid']\n",
      "Reverse sorting: ['Zahid', 'Waqas', 'Usama', 'Tariq', 'Rizwan', 'Nauman', 'Abdullah']\n"
     ]
    }
   ],
   "source": [
    "guests : list[str] = ['Waqas', 'Usama', 'Abdullah', 'Rizwan', 'Nauman', 'Zahid', 'Tariq']\n",
    "guests.sort()\n",
    "print(f'Ascending sorting: {guests}')\n",
    "guests.sort(reverse=True)\n",
    "print(f'Reverse sorting: {guests}')"
   ]
  },
  {
   "cell_type": "markdown",
   "metadata": {},
   "source": [
    "* Functions of List "
   ]
  },
  {
   "cell_type": "code",
   "execution_count": 1,
   "metadata": {},
   "outputs": [
    {
     "name": "stdout",
     "output_type": "stream",
     "text": [
      "['Waqas', 'Usama', 'Abdullah', 'Rizwan', 'Nauman', 'Zahid', 'Tariq']\n"
     ]
    }
   ],
   "source": [
    "guests : list[str] = ['Waqas', 'Usama', 'Abdullah', 'Rizwan', 'Nauman']\n",
    "new_guests : list[str] = ['Zahid', 'Tariq']\n",
    "guests.extend(new_guests)\n",
    "print(guests)"
   ]
  },
  {
   "cell_type": "markdown",
   "metadata": {},
   "source": [
    "## 3-8. Seeing the World: Think of at least five places in the world you’d like  to visit.\n",
    "\n",
    "* Store the locations in a list. Make sure the list is not in alphabetical order.\n",
    "* Print your list in its original order. Don’t worry about printing the list neatly; just print it as a raw Python list.\n",
    "* Use sorted() to print your list in alphabetical order without modifying the actual list.\n",
    "* Show that your list is still in its original order by printing it.\n",
    "* Use sorted() to print your list in reverse-alphabetical order without chang-ing the order of the original list.\n",
    "* Show that your list is still in its original order by printing it again.\n",
    "* Use reverse() to change the order of your list. Print the list to show that its order has changed.\n",
    "* Use reverse() to change the order of your list again. Print the list to show it’s back to its original order.\n",
    "* Use sort() to change your list so it’s stored in alphabetical order. Print the list to show that its order has been changed.\n",
    "* Use sort() to change your list so it’s stored in reverse-alphabetical order. Print the list to show that its order has changed"
   ]
  },
  {
   "cell_type": "code",
   "execution_count": 11,
   "metadata": {},
   "outputs": [
    {
     "name": "stdout",
     "output_type": "stream",
     "text": [
      "**************** Places I like to Visit ****************\n",
      "Original List: ['Makkah', 'Madina', 'Qatar', 'USA', 'Canada', 'Luxembourg']\n",
      "Sorted List: ['Canada', 'Luxembourg', 'Madina', 'Makkah', 'Qatar', 'USA']\n",
      "Original List: ['Makkah', 'Madina', 'Qatar', 'USA', 'Canada', 'Luxembourg']\n",
      "Reversed List: ['Luxembourg', 'Canada', 'USA', 'Qatar', 'Madina', 'Makkah']\n",
      "Original List Changed: ['Luxembourg', 'Canada', 'USA', 'Qatar', 'Madina', 'Makkah']\n",
      "Reversed back to Original: ['Makkah', 'Madina', 'Qatar', 'USA', 'Canada', 'Luxembourg']\n",
      "Sort List in alphabetical order: ['Canada', 'Luxembourg', 'Madina', 'Makkah', 'Qatar', 'USA']\n",
      "Original List changed: ['Canada', 'Luxembourg', 'Madina', 'Makkah', 'Qatar', 'USA']\n",
      "Sort List in reverse - alphabetical order: ['USA', 'Qatar', 'Makkah', 'Madina', 'Luxembourg', 'Canada']\n"
     ]
    }
   ],
   "source": [
    "places : list[str] = ['Makkah', 'Madina', 'Qatar', 'USA', 'Canada', 'Luxembourg']\n",
    "print('**************** Places I like to Visit ****************')\n",
    "print(f'Original List: {places}')\n",
    "print(f'Sorted List: {sorted(places)}')\n",
    "print(f'Original List: {places}')\n",
    "places.reverse()\n",
    "print(f'Reversed List: {places}')\n",
    "print(f'Original List Changed: {places}')\n",
    "places.reverse()\n",
    "print(f'Reversed back to Original: {places}')\n",
    "places.sort()\n",
    "print(f'Sort List in alphabetical order: {places}')\n",
    "print(f'Original List changed: {places}')\n",
    "places.sort(reverse=True)\n",
    "print(f'Sort List in reverse - alphabetical order: {places}')"
   ]
  }
 ],
 "metadata": {
  "kernelspec": {
   "display_name": "Python 3",
   "language": "python",
   "name": "python3"
  },
  "language_info": {
   "codemirror_mode": {
    "name": "ipython",
    "version": 3
   },
   "file_extension": ".py",
   "mimetype": "text/x-python",
   "name": "python",
   "nbconvert_exporter": "python",
   "pygments_lexer": "ipython3",
   "version": "3.12.0"
  }
 },
 "nbformat": 4,
 "nbformat_minor": 2
}
