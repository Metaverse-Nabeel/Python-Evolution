{
 "cells": [
  {
   "cell_type": "markdown",
   "metadata": {},
   "source": [
    "# Class-2 String, format string and Naming conventions of Python"
   ]
  },
  {
   "cell_type": "markdown",
   "metadata": {},
   "source": [
    "String Definition"
   ]
  },
  {
   "cell_type": "code",
   "execution_count": 1,
   "metadata": {},
   "outputs": [
    {
     "name": "stdout",
     "output_type": "stream",
     "text": [
      "name\n",
      "Nabeel\n"
     ]
    }
   ],
   "source": [
    "name : str = \"Nabeel\"\n",
    "print(\"name\") # print the name as it is in the string \n",
    "print(name) # print the value of variable name"
   ]
  },
  {
   "cell_type": "code",
   "execution_count": 4,
   "metadata": {},
   "outputs": [
    {
     "name": "stdout",
     "output_type": "stream",
     "text": [
      "My message is here:\n",
      "My name is Nabeel.\n",
      "My age is 29.\n"
     ]
    }
   ],
   "source": [
    "message : str = '''My name is Nabeel.\n",
    "My age is 29.'''\n",
    "print(f\"My message is here:\\n{message}\")"
   ]
  },
  {
   "cell_type": "markdown",
   "metadata": {},
   "source": [
    "## Try it youself - Exercise Questions Chapter-2"
   ]
  },
  {
   "cell_type": "markdown",
   "metadata": {},
   "source": [
    "2-1. Simple Message: Assign a message to a variable, and then print that message"
   ]
  },
  {
   "cell_type": "code",
   "execution_count": 1,
   "metadata": {},
   "outputs": [
    {
     "data": {
      "text/plain": [
       "'I am a Junior Developer'"
      ]
     },
     "metadata": {},
     "output_type": "display_data"
    },
    {
     "name": "stdout",
     "output_type": "stream",
     "text": [
      "I am a Junior Developer\n"
     ]
    }
   ],
   "source": [
    "message : str = \"I am a Junior Developer\"\n",
    "display(message) #print with decorations\n",
    "print(message) #print without decorations"
   ]
  },
  {
   "cell_type": "markdown",
   "metadata": {},
   "source": [
    "2-2. Simple Messages: Assign a message to a variable, and print that message. Then change the value of the variable to a new message, and print the new message."
   ]
  },
  {
   "cell_type": "code",
   "execution_count": 3,
   "metadata": {},
   "outputs": [
    {
     "data": {
      "text/plain": [
       "'I am a Junior Developer'"
      ]
     },
     "metadata": {},
     "output_type": "display_data"
    },
    {
     "data": {
      "text/plain": [
       "'I was a Junior Developer.'"
      ]
     },
     "metadata": {},
     "output_type": "display_data"
    }
   ],
   "source": [
    "message : str = \"I am a Junior Developer\"\n",
    "display(message) #print with decorations\n",
    "message : str = \"I was a Junior Developer.\"\n",
    "display(message) #print with decorations\n"
   ]
  },
  {
   "cell_type": "markdown",
   "metadata": {},
   "source": [
    "2-3. Personal Message: Use a variable to represent a person’s name, and print a message to that person. Your message should be simple, such as, “Hello Eric, would you like to learn some Python today?”"
   ]
  },
  {
   "cell_type": "code",
   "execution_count": 4,
   "metadata": {},
   "outputs": [
    {
     "data": {
      "text/plain": [
       "'Hello Nabeel Ahmed! would you like to learn some Python today?'"
      ]
     },
     "metadata": {},
     "output_type": "display_data"
    },
    {
     "name": "stdout",
     "output_type": "stream",
     "text": [
      "Hello Nabeel Ahmed! would you like to learn some Python today?\n"
     ]
    }
   ],
   "source": [
    "name : str = \"Nabeel Ahmed\"\n",
    "display(f\"Hello {name}! would you like to learn some Python today?\")\n",
    "print(f\"Hello {name}! would you like to learn some Python today?\")"
   ]
  },
  {
   "cell_type": "markdown",
   "metadata": {},
   "source": [
    "2-4. Name Cases: Use a variable to represent a person’s name, and then print that person’s name in lowercase, uppercase, and title case."
   ]
  },
  {
   "cell_type": "code",
   "execution_count": 6,
   "metadata": {},
   "outputs": [
    {
     "name": "stdout",
     "output_type": "stream",
     "text": [
      "Original Name: nAbEel AhMeD\n",
      "Name in UPPERCASE: NABEEL AHMED\n",
      "Name in lowercase: nabeel ahmed\n",
      "Name in TitleCase: Nabeel Ahmed\n"
     ]
    }
   ],
   "source": [
    "name : str = \"nAbEel AhMeD\"\n",
    "print(f\"Original Name: {name}\")\n",
    "print(f\"Name in UPPERCASE: {name.upper()}\")\n",
    "print(f\"Name in lowercase: {name.lower()}\")\n",
    "print(f\"Name in TitleCase: {name.title()}\")"
   ]
  },
  {
   "cell_type": "markdown",
   "metadata": {},
   "source": [
    "2-5. Famous Quote: Find a quote from a famous person you admire. Print the quote and the name of its author. Your output should look something like the following, including the quotation marks:\n",
    "Albert Einstein once said, “A person who never made a mistake never tried anything new.”"
   ]
  },
  {
   "cell_type": "code",
   "execution_count": 9,
   "metadata": {},
   "outputs": [
    {
     "name": "stdout",
     "output_type": "stream",
     "text": [
      "\u001b[3mAlbert Einstein once said, “A person who never made a mistake never tried anything new.”\u001b[0m\n"
     ]
    }
   ],
   "source": [
    "quote : str = '\\033[3mAlbert Einstein once said, “A person who never made a mistake never tried anything new.”\\033[0m'\n",
    "print(f\"{quote}\")"
   ]
  },
  {
   "cell_type": "markdown",
   "metadata": {},
   "source": [
    "2-6. Famous Quote 2: Repeat Exercise 2-5, but this time, represent the famous person’s name using a variable called famous_person. Then compose your mes-sage and represent it with a new variable called message. Print your message."
   ]
  },
  {
   "cell_type": "code",
   "execution_count": 12,
   "metadata": {},
   "outputs": [
    {
     "name": "stdout",
     "output_type": "stream",
     "text": [
      "\u001b[3mAlbert Einstein once said, “A person who never made a mistake never tried anything new.”\u001b[0m\n"
     ]
    }
   ],
   "source": [
    "famous_person : str = \"Albert Einstein\"\n",
    "quote : str = f'\\033[3m{famous_person} once said, “A person who never made a mistake never tried anything new.”\\033[0m'\n",
    "print(f\"{quote}\")"
   ]
  },
  {
   "cell_type": "markdown",
   "metadata": {},
   "source": [
    "2-7. Stripping Names: Use a variable to represent a person’s name, and include some whitespace characters at the beginning and end of the name. Make sure you use each character combination, \"\\t\" and \"\\n\", at least once.Print the name once, so the whitespace around the name is displayed. Then print the name using each of the three stripping functions, lstrip(), \n",
    "rstrip(), and strip()."
   ]
  },
  {
   "cell_type": "code",
   "execution_count": 15,
   "metadata": {},
   "outputs": [
    {
     "data": {
      "text/plain": [
       "'Original Name: \\tNabeel Ahmed\\t'"
      ]
     },
     "metadata": {},
     "output_type": "display_data"
    },
    {
     "data": {
      "text/plain": [
       "'Name with lstrip function: Nabeel Ahmed\\t'"
      ]
     },
     "metadata": {},
     "output_type": "display_data"
    },
    {
     "data": {
      "text/plain": [
       "'Name with rstrip function: \\tNabeel Ahmed'"
      ]
     },
     "metadata": {},
     "output_type": "display_data"
    },
    {
     "data": {
      "text/plain": [
       "'Name with strip function: Nabeel Ahmed'"
      ]
     },
     "metadata": {},
     "output_type": "display_data"
    }
   ],
   "source": [
    "name : str = \"\\tNabeel Ahmed\\t\"\n",
    "display(f\"Original Name: {name}\")\n",
    "display(f\"Name with lstrip function: {name.lstrip()}\")\n",
    "display(f\"Name with rstrip function: {name.rstrip()}\")\n",
    "display(f\"Name with strip function: {name.strip()}\")"
   ]
  },
  {
   "cell_type": "markdown",
   "metadata": {},
   "source": [
    "2-8. File Extensions: Python has a removesuffix() method that works exactly  like removeprefix(). Assign the value 'python_notes.txt' to a variable called \n",
    "filename. Then use the removesuffix() method to display the filename without the file extension, like some file browsers do.\n"
   ]
  },
  {
   "cell_type": "code",
   "execution_count": 17,
   "metadata": {},
   "outputs": [
    {
     "name": "stdout",
     "output_type": "stream",
     "text": [
      "File name: python_note.txt\n",
      "python_note\n"
     ]
    }
   ],
   "source": [
    "filename : str = \"python_note.txt\"\n",
    "print(\"File name: \" + filename)\n",
    "print(filename.removesuffix('.txt'))"
   ]
  },
  {
   "cell_type": "markdown",
   "metadata": {},
   "source": [
    "2-9. Number Eight: Write addition, subtraction, multiplication, and division operations that each result in the number 8. Be sure to enclose your operations in print() calls to see the results. You should create four lines that look like this:\n",
    "print(5+3)\n",
    "Your output should be four lines, with the number 8 appearing once on each line."
   ]
  },
  {
   "cell_type": "code",
   "execution_count": 18,
   "metadata": {},
   "outputs": [
    {
     "name": "stdout",
     "output_type": "stream",
     "text": [
      "8\n",
      "8.0\n",
      "8\n",
      "8\n"
     ]
    }
   ],
   "source": [
    "print(6+2)\n",
    "print(16/2)\n",
    "print(14-6)\n",
    "print(4*2)"
   ]
  },
  {
   "cell_type": "markdown",
   "metadata": {},
   "source": [
    "2-10. Favorite Number: Use a variable to represent your favorite number. Then, using that variable, create a message that reveals your favorite number. Print that message."
   ]
  },
  {
   "cell_type": "code",
   "execution_count": 20,
   "metadata": {},
   "outputs": [
    {
     "name": "stdout",
     "output_type": "stream",
     "text": [
      "My favorite number is 1994\n"
     ]
    }
   ],
   "source": [
    "favorite_num : int = 1994\n",
    "print(f\"My favorite number is {favorite_num}\")"
   ]
  }
 ],
 "metadata": {
  "kernelspec": {
   "display_name": "Python 3",
   "language": "python",
   "name": "python3"
  },
  "language_info": {
   "codemirror_mode": {
    "name": "ipython",
    "version": 3
   },
   "file_extension": ".py",
   "mimetype": "text/x-python",
   "name": "python",
   "nbconvert_exporter": "python",
   "pygments_lexer": "ipython3",
   "version": "3.12.0"
  }
 },
 "nbformat": 4,
 "nbformat_minor": 2
}
